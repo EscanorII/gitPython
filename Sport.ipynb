{
 "cells": [
  {
   "cell_type": "code",
   "execution_count": 37,
   "metadata": {},
   "outputs": [
    {
     "ename": "SyntaxError",
     "evalue": "unexpected character after line continuation character (<ipython-input-37-5158ebbfc4af>, line 2)",
     "output_type": "error",
     "traceback": [
      "\u001b[1;36m  File \u001b[1;32m\"<ipython-input-37-5158ebbfc4af>\"\u001b[1;36m, line \u001b[1;32m2\u001b[0m\n\u001b[1;33m    x = text.split(\\n)\u001b[0m\n\u001b[1;37m                      ^\u001b[0m\n\u001b[1;31mSyntaxError\u001b[0m\u001b[1;31m:\u001b[0m unexpected character after line continuation character\n"
     ]
    }
   ],
   "source": [
    "inventory = {\"arrows\": 20 ,\"gold coins\": 200 , \"torch\": 3 , \"dagger\": 4}\n",
    "\n",
    "def displayInventory(inv ):\n",
    "    num = 0\n",
    "    for a,b in inv.items():\n",
    "        print(b,a)\n",
    "        num+=b\n",
    "    print(\"Total number of items :\",num)    \n",
    "\n",
    "\n",
    "\n",
    "dragonLoot = [\"gold coins\" , \"arrows\"]\n",
    "\n",
    "def addToInventory(inv, loot):\n",
    "    for i in loot:\n",
    "        if i in inventory:\n",
    "            inv[i]+=1\n",
    "        else:\n",
    "            break\n",
    "def main():\n",
    "    addToInventory(inventory,dragonLoot)\n",
    "    displayInventory(inventory)\n",
    "\n",
    "main()"
   ]
  },
  {
   "cell_type": "code",
   "execution_count": null,
   "metadata": {},
   "outputs": [],
   "source": []
  }
 ],
 "metadata": {
  "kernelspec": {
   "display_name": "Python 3",
   "language": "python",
   "name": "python3"
  },
  "language_info": {
   "codemirror_mode": {
    "name": "ipython",
    "version": 3
   },
   "file_extension": ".py",
   "mimetype": "text/x-python",
   "name": "python",
   "nbconvert_exporter": "python",
   "pygments_lexer": "ipython3",
   "version": "3.8.3"
  }
 },
 "nbformat": 4,
 "nbformat_minor": 4
}
